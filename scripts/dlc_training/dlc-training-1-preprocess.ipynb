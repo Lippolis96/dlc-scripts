{
 "cells": [
  {
   "cell_type": "markdown",
   "metadata": {},
   "source": [
    "# DLC Training Preprocess\n",
    "\n",
    "**Plan:**\n",
    "1. Select videos for training\n",
    "2. Automatically extract some frames\n",
    "3. Manually label frames\n",
    "4. Check manual labeling (and correct it, if necessary)\n",
    "5. Create training set\n",
    "\n",
    "**After this notebook finishes:**\n",
    "1. Copy new project directory to server\n",
    "2. Run training and evaluation on the server\n",
    "3. Copy new project directory back from server, replacing current\n",
    "4. Proceed to postprocess notebook"
   ]
  },
  {
   "cell_type": "code",
   "execution_count": 1,
   "metadata": {
    "colab": {},
    "colab_type": "code",
    "collapsed": true,
    "id": "jqLZhp7EoEI0"
   },
   "outputs": [],
   "source": [
    "%matplotlib inline\n",
    "\n",
    "import deeplabcut\n",
    "\n",
    "from lib.qt_wrapper import gui_fname, gui_fnames, gui_fpath"
   ]
  },
  {
   "cell_type": "code",
   "execution_count": 4,
   "metadata": {
    "colab": {},
    "colab_type": "code",
    "id": "c9DjG55FoEI7"
   },
   "outputs": [
    {
     "name": "stdout",
     "output_type": "stream",
     "text": [
      "Adding more videos\n",
      "Currently using videos: ['/mnt/hifo_scratch1/Yaro/DeepLabCut/whiskers/mtp_13_2017_03_21_a/2017_03_21_09_09_31.avi']\n",
      "Add more videos? (y/n) :y\n",
      "Adding more videos\n",
      "Currently using videos: ['/mnt/hifo_scratch1/Yaro/DeepLabCut/whiskers/mtp_13_2017_03_21_a/2017_03_21_09_09_31.avi', '/mnt/hifo_scratch1/Yaro/DeepLabCut/whiskers/mvg_5_2017_11_16_a/2017_11_16_12_53_50.avi']\n",
      "Add more videos? (y/n) :n\n",
      "Created \"/home/aleksejs/Documents/dlc-experiments/YaroHappyVidExp123-Yaro-2019-06-17/videos\"\n",
      "Created \"/home/aleksejs/Documents/dlc-experiments/YaroHappyVidExp123-Yaro-2019-06-17/labeled-data\"\n",
      "Created \"/home/aleksejs/Documents/dlc-experiments/YaroHappyVidExp123-Yaro-2019-06-17/training-datasets\"\n",
      "Created \"/home/aleksejs/Documents/dlc-experiments/YaroHappyVidExp123-Yaro-2019-06-17/dlc-models\"\n",
      "Creating the symbolic link of the video\n",
      "Created the symlink of /mnt/hifo_scratch1/Yaro/DeepLabCut/whiskers/mtp_13_2017_03_21_a/2017_03_21_09_09_31.avi to /home/aleksejs/Documents/dlc-experiments/YaroHappyVidExp123-Yaro-2019-06-17/videos/2017_03_21_09_09_31.avi\n",
      "Created the symlink of /mnt/hifo_scratch1/Yaro/DeepLabCut/whiskers/mvg_5_2017_11_16_a/2017_11_16_12_53_50.avi to /home/aleksejs/Documents/dlc-experiments/YaroHappyVidExp123-Yaro-2019-06-17/videos/2017_11_16_12_53_50.avi\n",
      "/home/aleksejs/Documents/dlc-experiments/YaroHappyVidExp123-Yaro-2019-06-17/videos/2017_03_21_09_09_31.avi\n",
      "/home/aleksejs/Documents/dlc-experiments/YaroHappyVidExp123-Yaro-2019-06-17/videos/2017_11_16_12_53_50.avi\n",
      "Generated \"/home/aleksejs/Documents/dlc-experiments/YaroHappyVidExp123-Yaro-2019-06-17/config.yaml\"\n",
      "\n",
      "A new project with name YaroHappyVidExp123-Yaro-2019-06-17 is created at /home/aleksejs/Documents/dlc-experiments and a configurable file (config.yaml) is stored there. Change the parameters in this file to adapt to your project's needs.\n",
      " Once you have changed the configuration file, use the function 'extract_frames' to select frames for labeling.\n",
      ". [OPTIONAL] Use the function 'add_new_videos' to add new videos to your project (at any stage).\n"
     ]
    }
   ],
   "source": [
    "# USER: Enter task parameters\n",
    "task='YaroHappyVidExp123'     # Enter the name of your experiment Task\n",
    "experimenter='Yaro'  # Enter the name of the experimenter\n",
    "\n",
    "# GUI: Select working directory\n",
    "pwd_workdir = gui_fpath(\"Select new project directory...\", \"./\")\n",
    "\n",
    "# GUI: Select videos for training\n",
    "pwd_videos = []\n",
    "add_videos_done = False\n",
    "while not add_videos_done:\n",
    "    print(\"Adding more videos\")\n",
    "    pwd_videos += gui_fnames(\"Select original video files...\", \"./\", \"Video Files (*.avi)\")\n",
    "    print(\"Currently using videos:\", pwd_videos)\n",
    "    add_videos_done = input(\"Add more videos? (y/n) :\") != \"y\"\n",
    "\n",
    "# DEEPLABCUT: Create new project\n",
    "path_config_file = deeplabcut.create_new_project(task,experimenter,pwd_videos, working_directory=pwd_workdir, copy_videos=False)"
   ]
  },
  {
   "cell_type": "markdown",
   "metadata": {},
   "source": [
    "<font color='red' size='22'>\n",
    "Now edit config.yaml by hand if necessary - change body part names and number of frames to pick\n",
    "</font>"
   ]
  },
  {
   "cell_type": "markdown",
   "metadata": {},
   "source": [
    "## Extract Frames from video"
   ]
  },
  {
   "cell_type": "code",
   "execution_count": 5,
   "metadata": {},
   "outputs": [
    {
     "name": "stderr",
     "output_type": "stream",
     "text": [
      "/opt/anaconda3/envs/dlc/lib/python3.6/site-packages/deeplabcut/generate_training_dataset/frame_extraction.py:100: YAMLLoadWarning: calling yaml.load() without Loader=... is deprecated, as the default Loader is unsafe. Please read https://msg.pyyaml.org/load for full details.\n",
      "  cfg = yaml.load(ymlfile)\n"
     ]
    },
    {
     "name": "stdout",
     "output_type": "stream",
     "text": [
      "Config file read successfully.\n",
      "Do you want to extract (perhaps additional) frames for video: /mnt/hifo_scratch1/Yaro/DeepLabCut/whiskers/mtp_13_2017_03_21_a/2017_03_21_09_09_31.avi ?\n",
      "yes/noyes\n"
     ]
    },
    {
     "name": "stderr",
     "output_type": "stream",
     "text": [
      "38it [00:00, 369.16it/s]"
     ]
    },
    {
     "name": "stdout",
     "output_type": "stream",
     "text": [
      "Extracting frames based on kmeans ...\n",
      "Kmeans-quantization based extracting of frames from 0.0  seconds to 9.8  seconds.\n",
      "Extracting and downsampling... 1960  frames from the video.\n"
     ]
    },
    {
     "name": "stderr",
     "output_type": "stream",
     "text": [
      "1960it [00:07, 251.27it/s]\n"
     ]
    },
    {
     "name": "stdout",
     "output_type": "stream",
     "text": [
      "Kmeans clustering ... (this might take a while)\n",
      "Do you want to extract (perhaps additional) frames for video: /mnt/hifo_scratch1/Yaro/DeepLabCut/whiskers/mvg_5_2017_11_16_a/2017_11_16_12_53_50.avi ?\n",
      "yes/noyes\n"
     ]
    },
    {
     "name": "stderr",
     "output_type": "stream",
     "text": [
      "54it [00:00, 502.57it/s]"
     ]
    },
    {
     "name": "stdout",
     "output_type": "stream",
     "text": [
      "Extracting frames based on kmeans ...\n",
      "Kmeans-quantization based extracting of frames from 0.0  seconds to 8.25  seconds.\n",
      "Extracting and downsampling... 1650  frames from the video.\n"
     ]
    },
    {
     "name": "stderr",
     "output_type": "stream",
     "text": [
      "1650it [00:04, 359.72it/s]\n"
     ]
    },
    {
     "name": "stdout",
     "output_type": "stream",
     "text": [
      "Kmeans clustering ... (this might take a while)\n",
      "\n",
      "Frames were selected.\n",
      "You can now label the frames using the function 'label_frames' (if you extracted enough frames for all videos).\n"
     ]
    }
   ],
   "source": [
    "deeplabcut.extract_frames(path_config_file, 'automatic', 'kmeans', crop=False)"
   ]
  },
  {
   "cell_type": "markdown",
   "metadata": {
    "colab_type": "text",
    "id": "Gjn6ZDonoEJH"
   },
   "source": [
    "## Label the extracted frames"
   ]
  },
  {
   "cell_type": "code",
   "execution_count": 4,
   "metadata": {
    "collapsed": true
   },
   "outputs": [],
   "source": [
    "# Temporary\n",
    "\n",
    "#path_config_file = \"C:\\\\Users\\\\sipila\\\\work\\\\projects\\\\Tracking2ndRound-Pia-2019-06-05\\\\config.yaml\"\n",
    "path_config_file = \"/home/aleksejs/Documents/dlc-experiments/YaroHappyVidExp123-Yaro-2019-06-17/config.yaml\""
   ]
  },
  {
   "cell_type": "code",
   "execution_count": 5,
   "metadata": {
    "colab": {},
    "colab_type": "code",
    "id": "iyROSOiEoEJI"
   },
   "outputs": [
    {
     "name": "stdout",
     "output_type": "stream",
     "text": [
      "You can now check the labels, using 'check_labels' before proceeding. Then, you can use the function 'create_training_dataset' to create the training dataset.\n"
     ]
    }
   ],
   "source": [
    "%gui wx\n",
    "deeplabcut.label_frames(path_config_file)"
   ]
  },
  {
   "cell_type": "markdown",
   "metadata": {
    "colab_type": "text",
    "id": "vim95ZvkPSeN"
   },
   "source": [
    "## Check the labels"
   ]
  },
  {
   "cell_type": "code",
   "execution_count": 6,
   "metadata": {
    "colab": {},
    "colab_type": "code",
    "id": "NwvgPJouPP2O"
   },
   "outputs": [
    {
     "name": "stdout",
     "output_type": "stream",
     "text": [
      "Creating images with labels by Yaro.\n",
      "/home/aleksejs/Documents/dlc-experiments/YaroHappyVidExp123-Yaro-2019-06-17/labeled-data/2017_03_21_09_09_31_labeled  already exists!\n",
      "They are stored in the following folder: /home/aleksejs/Documents/dlc-experiments/YaroHappyVidExp123-Yaro-2019-06-17/labeled-data/2017_03_21_09_09_31_labeled.\n",
      "/home/aleksejs/Documents/dlc-experiments/YaroHappyVidExp123-Yaro-2019-06-17/labeled-data/2017_11_16_12_53_50_labeled  already exists!\n",
      "They are stored in the following folder: /home/aleksejs/Documents/dlc-experiments/YaroHappyVidExp123-Yaro-2019-06-17/labeled-data/2017_11_16_12_53_50_labeled.\n",
      "If all the labels are ok, then use the function 'create_training_dataset' to create the training dataset!\n"
     ]
    }
   ],
   "source": [
    "deeplabcut.check_labels(path_config_file) #this creates a subdirectory with the frames + your labels"
   ]
  },
  {
   "cell_type": "markdown",
   "metadata": {
    "colab_type": "text",
    "id": "8ib0uvhaoEJx"
   },
   "source": [
    "## Refine Labels [only if original labels are wrong]"
   ]
  },
  {
   "cell_type": "code",
   "execution_count": 0,
   "metadata": {
    "colab": {},
    "colab_type": "code",
    "collapsed": true,
    "id": "n_FpEXtyoEJy"
   },
   "outputs": [],
   "source": [
    "%gui wx\n",
    "deeplabcut.refine_labels(path_config_file)\n",
    "\n",
    "#Once all folders are relabeled, check them and advance. See how to check labels, above!\n",
    "deeplabcut.merge_datasets(path_config_file)"
   ]
  }
 ],
 "metadata": {
  "accelerator": "GPU",
  "colab": {
   "name": "Demo-yourowndata.ipynb",
   "provenance": [],
   "version": "0.3.2"
  },
  "kernelspec": {
   "display_name": "Python (dlc)",
   "language": "python",
   "name": "dlc_ker"
  },
  "language_info": {
   "codemirror_mode": {
    "name": "ipython",
    "version": 3
   },
   "file_extension": ".py",
   "mimetype": "text/x-python",
   "name": "python",
   "nbconvert_exporter": "python",
   "pygments_lexer": "ipython3",
   "version": "3.6.7"
  },
  "varInspector": {
   "cols": {
    "lenName": 16,
    "lenType": 16,
    "lenVar": 40
   },
   "kernels_config": {
    "python": {
     "delete_cmd_postfix": "",
     "delete_cmd_prefix": "del ",
     "library": "var_list.py",
     "varRefreshCmd": "print(var_dic_list())"
    },
    "r": {
     "delete_cmd_postfix": ") ",
     "delete_cmd_prefix": "rm(",
     "library": "var_list.r",
     "varRefreshCmd": "cat(var_dic_list()) "
    }
   },
   "types_to_exclude": [
    "module",
    "function",
    "builtin_function_or_method",
    "instance",
    "_Feature"
   ],
   "window_display": false
  }
 },
 "nbformat": 4,
 "nbformat_minor": 1
}
